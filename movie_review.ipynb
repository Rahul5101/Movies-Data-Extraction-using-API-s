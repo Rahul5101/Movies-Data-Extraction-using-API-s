{
 "cells": [
  {
   "cell_type": "code",
   "execution_count": 2,
   "id": "d226d7b4-02c2-49fe-a449-1d27532c9f2f",
   "metadata": {},
   "outputs": [],
   "source": [
    "import requests\n",
    "import pandas as pd\n",
    "import time\n"
   ]
  },
  {
   "cell_type": "code",
   "execution_count": 3,
   "id": "873e366c-bc3a-4830-b40d-3b6acf5eede8",
   "metadata": {
    "scrolled": true
   },
   "outputs": [
    {
     "name": "stdout",
     "output_type": "stream",
     "text": [
      "Page 1: Retrieved 20 movies.\n",
      "Page 2: Retrieved 20 movies.\n",
      "Page 3: Retrieved 20 movies.\n",
      "Page 4: Retrieved 20 movies.\n",
      "Page 5: Retrieved 20 movies.\n",
      "Page 6: Retrieved 20 movies.\n",
      "Page 7: Retrieved 20 movies.\n",
      "Page 8: Retrieved 20 movies.\n",
      "Page 9: Retrieved 20 movies.\n",
      "Page 10: Retrieved 20 movies.\n",
      "Page 11: Retrieved 20 movies.\n",
      "Page 12: Retrieved 20 movies.\n",
      "Page 13: Retrieved 20 movies.\n",
      "Page 14: Retrieved 20 movies.\n",
      "Page 15: Retrieved 20 movies.\n",
      "Page 16: Retrieved 20 movies.\n",
      "Page 17: Retrieved 20 movies.\n",
      "Page 18: Retrieved 20 movies.\n",
      "Page 19: Retrieved 20 movies.\n",
      "Page 20: Retrieved 20 movies.\n",
      "Page 21: Retrieved 20 movies.\n",
      "Page 22: Retrieved 20 movies.\n",
      "Page 23: Retrieved 20 movies.\n",
      "Page 24: Retrieved 20 movies.\n",
      "Page 25: Retrieved 20 movies.\n",
      "Page 26: Retrieved 20 movies.\n",
      "Page 27: Retrieved 20 movies.\n",
      "Page 28: Retrieved 20 movies.\n",
      "Page 29: Retrieved 20 movies.\n",
      "Page 30: Retrieved 20 movies.\n",
      "Page 31: Retrieved 20 movies.\n",
      "Page 32: Retrieved 20 movies.\n",
      "Page 33: Retrieved 20 movies.\n",
      "Page 34: Retrieved 20 movies.\n",
      "Page 35: Retrieved 20 movies.\n",
      "Page 36: Retrieved 20 movies.\n",
      "Page 37: Retrieved 20 movies.\n",
      "Page 38: Retrieved 20 movies.\n",
      "Page 39: Retrieved 20 movies.\n",
      "Page 40: Retrieved 20 movies.\n",
      "Page 41: Retrieved 20 movies.\n",
      "Page 42: Retrieved 20 movies.\n",
      "Page 43: Retrieved 20 movies.\n",
      "Page 44: Retrieved 20 movies.\n",
      "Page 45: Retrieved 20 movies.\n",
      "Page 46: Retrieved 20 movies.\n",
      "Page 47: Retrieved 20 movies.\n",
      "Page 48: Retrieved 20 movies.\n",
      "Page 49: Retrieved 20 movies.\n",
      "Page 50: Retrieved 20 movies.\n",
      "Page 51: Retrieved 20 movies.\n",
      "Page 52: Retrieved 20 movies.\n",
      "Page 53: Retrieved 20 movies.\n",
      "Page 54: Retrieved 20 movies.\n",
      "Page 55: Retrieved 20 movies.\n",
      "Page 56: Retrieved 20 movies.\n",
      "Page 57: Retrieved 20 movies.\n",
      "Page 58: Retrieved 20 movies.\n",
      "Page 59: Retrieved 20 movies.\n",
      "Page 60: Retrieved 20 movies.\n",
      "Page 61: Retrieved 20 movies.\n",
      "Page 62: Retrieved 20 movies.\n",
      "Page 63: Retrieved 20 movies.\n",
      "Page 64: Retrieved 20 movies.\n",
      "Page 65: Retrieved 20 movies.\n",
      "Page 66: Retrieved 20 movies.\n",
      "Page 67: Retrieved 20 movies.\n",
      "Page 68: Retrieved 20 movies.\n",
      "Page 69: Retrieved 20 movies.\n",
      "Page 70: Retrieved 20 movies.\n",
      "Page 71: Retrieved 20 movies.\n",
      "Page 72: Retrieved 20 movies.\n",
      "Page 73: Retrieved 20 movies.\n",
      "Page 74: Retrieved 20 movies.\n",
      "Page 75: Retrieved 20 movies.\n",
      "Page 76: Retrieved 20 movies.\n",
      "Page 77: Retrieved 20 movies.\n",
      "Page 78: Retrieved 20 movies.\n",
      "Page 79: Retrieved 20 movies.\n",
      "Page 80: Retrieved 20 movies.\n",
      "Page 81: Retrieved 20 movies.\n",
      "Page 82: Retrieved 20 movies.\n",
      "Page 83: Retrieved 20 movies.\n",
      "Page 84: Retrieved 20 movies.\n",
      "Page 85: Retrieved 20 movies.\n",
      "Page 86: Retrieved 20 movies.\n",
      "Page 87: Retrieved 20 movies.\n",
      "Page 88: Retrieved 20 movies.\n",
      "Page 89: Retrieved 20 movies.\n",
      "Page 90: Retrieved 20 movies.\n",
      "Page 91: Retrieved 20 movies.\n",
      "Page 92: Retrieved 20 movies.\n",
      "Page 93: Retrieved 20 movies.\n",
      "Page 94: Retrieved 20 movies.\n",
      "Page 95: Retrieved 20 movies.\n",
      "Page 96: Retrieved 20 movies.\n",
      "Page 97: Retrieved 20 movies.\n",
      "Page 98: Retrieved 20 movies.\n",
      "Page 99: Retrieved 20 movies.\n",
      "Page 100: Retrieved 20 movies.\n",
      "Page 101: Retrieved 20 movies.\n",
      "Page 102: Retrieved 20 movies.\n",
      "Page 103: Retrieved 20 movies.\n",
      "Page 104: Retrieved 20 movies.\n",
      "Page 105: Retrieved 20 movies.\n",
      "Page 106: Retrieved 20 movies.\n",
      "Page 107: Retrieved 20 movies.\n",
      "Page 108: Retrieved 20 movies.\n",
      "Page 109: Retrieved 20 movies.\n",
      "Page 110: Retrieved 20 movies.\n",
      "Page 111: Retrieved 20 movies.\n",
      "Page 112: Retrieved 20 movies.\n",
      "Page 113: Retrieved 20 movies.\n",
      "Page 114: Retrieved 20 movies.\n",
      "Page 115: Retrieved 20 movies.\n",
      "Page 116: Retrieved 20 movies.\n",
      "Page 117: Retrieved 20 movies.\n",
      "Page 118: Retrieved 20 movies.\n",
      "Page 119: Retrieved 20 movies.\n",
      "Page 120: Retrieved 20 movies.\n",
      "Page 121: Retrieved 20 movies.\n",
      "Page 122: Retrieved 20 movies.\n",
      "Page 123: Retrieved 20 movies.\n",
      "Page 124: Retrieved 20 movies.\n",
      "Page 125: Retrieved 20 movies.\n",
      "Page 126: Retrieved 20 movies.\n",
      "Page 127: Retrieved 20 movies.\n",
      "Page 128: Retrieved 20 movies.\n",
      "Page 129: Retrieved 20 movies.\n",
      "Page 130: Retrieved 20 movies.\n",
      "Page 131: Retrieved 20 movies.\n",
      "Page 132: Retrieved 20 movies.\n",
      "Page 133: Retrieved 20 movies.\n",
      "Page 134: Retrieved 20 movies.\n",
      "Page 135: Retrieved 20 movies.\n",
      "Page 136: Retrieved 20 movies.\n",
      "Page 137: Retrieved 20 movies.\n",
      "Page 138: Retrieved 20 movies.\n",
      "Page 139: Retrieved 20 movies.\n",
      "Page 140: Retrieved 20 movies.\n",
      "Page 141: Retrieved 20 movies.\n",
      "Page 142: Retrieved 20 movies.\n",
      "Page 143: Retrieved 20 movies.\n",
      "Page 144: Retrieved 20 movies.\n",
      "Page 145: Retrieved 20 movies.\n",
      "Page 146: Retrieved 20 movies.\n",
      "Page 147: Retrieved 20 movies.\n",
      "Page 148: Retrieved 20 movies.\n",
      "Page 149: Retrieved 20 movies.\n",
      "Page 150: Retrieved 20 movies.\n",
      "Page 151: Retrieved 20 movies.\n",
      "Page 152: Retrieved 20 movies.\n",
      "Page 153: Retrieved 20 movies.\n",
      "Page 154: Retrieved 20 movies.\n",
      "Page 155: Retrieved 20 movies.\n",
      "Page 156: Retrieved 20 movies.\n",
      "Page 157: Retrieved 20 movies.\n",
      "Page 158: Retrieved 20 movies.\n",
      "Page 159: Retrieved 20 movies.\n",
      "Page 160: Retrieved 20 movies.\n",
      "Page 161: Retrieved 20 movies.\n",
      "Page 162: Retrieved 20 movies.\n",
      "Page 163: Retrieved 20 movies.\n",
      "Page 164: Retrieved 20 movies.\n",
      "Page 165: Retrieved 20 movies.\n",
      "Page 166: Retrieved 20 movies.\n",
      "Page 167: Retrieved 20 movies.\n",
      "Page 168: Retrieved 20 movies.\n",
      "Page 169: Retrieved 20 movies.\n",
      "Page 170: Retrieved 20 movies.\n",
      "Page 171: Retrieved 20 movies.\n",
      "Page 172: Retrieved 20 movies.\n",
      "Page 173: Retrieved 20 movies.\n",
      "Page 174: Retrieved 20 movies.\n",
      "Page 175: Retrieved 20 movies.\n",
      "Page 176: Retrieved 20 movies.\n",
      "Page 177: Retrieved 20 movies.\n",
      "Page 178: Retrieved 20 movies.\n",
      "Page 179: Retrieved 20 movies.\n",
      "Page 180: Retrieved 20 movies.\n",
      "Page 181: Retrieved 20 movies.\n",
      "Page 182: Retrieved 20 movies.\n",
      "Page 183: Retrieved 20 movies.\n",
      "Page 184: Retrieved 20 movies.\n",
      "Page 185: Retrieved 20 movies.\n",
      "Page 186: Retrieved 20 movies.\n",
      "Page 187: Retrieved 20 movies.\n",
      "Page 188: Retrieved 20 movies.\n",
      "Page 189: Retrieved 20 movies.\n",
      "Page 190: Retrieved 20 movies.\n",
      "Page 191: Retrieved 20 movies.\n",
      "Page 192: Retrieved 20 movies.\n",
      "Page 193: Retrieved 20 movies.\n",
      "Page 194: Retrieved 20 movies.\n",
      "Page 195: Retrieved 20 movies.\n",
      "Page 196: Retrieved 20 movies.\n",
      "Page 197: Retrieved 20 movies.\n",
      "Page 198: Retrieved 20 movies.\n",
      "Page 199: Retrieved 20 movies.\n",
      "Page 200: Retrieved 20 movies.\n",
      "Page 201: Retrieved 20 movies.\n",
      "Page 202: Retrieved 20 movies.\n",
      "Page 203: Retrieved 20 movies.\n",
      "Page 204: Retrieved 20 movies.\n",
      "Page 205: Retrieved 20 movies.\n",
      "Page 206: Retrieved 20 movies.\n",
      "Page 207: Retrieved 20 movies.\n",
      "Page 208: Retrieved 20 movies.\n",
      "Page 209: Retrieved 20 movies.\n",
      "Page 210: Retrieved 20 movies.\n",
      "Page 211: Retrieved 20 movies.\n",
      "Page 212: Retrieved 20 movies.\n",
      "Page 213: Retrieved 20 movies.\n",
      "Page 214: Retrieved 20 movies.\n",
      "Page 215: Retrieved 20 movies.\n",
      "Page 216: Retrieved 20 movies.\n",
      "Page 217: Retrieved 20 movies.\n",
      "Page 218: Retrieved 20 movies.\n",
      "Page 219: Retrieved 20 movies.\n",
      "Page 220: Retrieved 20 movies.\n",
      "Page 221: Retrieved 20 movies.\n",
      "Page 222: Retrieved 20 movies.\n",
      "Page 223: Retrieved 20 movies.\n",
      "Page 224: Retrieved 20 movies.\n",
      "Page 225: Retrieved 20 movies.\n",
      "Page 226: Retrieved 20 movies.\n",
      "Page 227: Retrieved 20 movies.\n",
      "Page 228: Retrieved 20 movies.\n",
      "Page 229: Retrieved 20 movies.\n",
      "Page 230: Retrieved 20 movies.\n",
      "Page 231: Retrieved 20 movies.\n",
      "Page 232: Retrieved 20 movies.\n",
      "Page 233: Retrieved 20 movies.\n",
      "Page 234: Retrieved 20 movies.\n",
      "Page 235: Retrieved 20 movies.\n",
      "Page 236: Retrieved 20 movies.\n",
      "Page 237: Retrieved 20 movies.\n",
      "Page 238: Retrieved 20 movies.\n",
      "Page 239: Retrieved 20 movies.\n",
      "Page 240: Retrieved 20 movies.\n",
      "Page 241: Retrieved 20 movies.\n",
      "Page 242: Retrieved 20 movies.\n",
      "Page 243: Retrieved 20 movies.\n",
      "Page 244: Retrieved 20 movies.\n",
      "Page 245: Retrieved 20 movies.\n",
      "Page 246: Retrieved 20 movies.\n",
      "Page 247: Retrieved 20 movies.\n",
      "Page 248: Retrieved 20 movies.\n",
      "Page 249: Retrieved 20 movies.\n",
      "Page 250: Retrieved 20 movies.\n",
      "Page 251: Retrieved 20 movies.\n",
      "Page 252: Retrieved 20 movies.\n",
      "Page 253: Retrieved 20 movies.\n",
      "Page 254: Retrieved 20 movies.\n",
      "Page 255: Retrieved 20 movies.\n",
      "Page 256: Retrieved 20 movies.\n",
      "Page 257: Retrieved 20 movies.\n",
      "Page 258: Retrieved 20 movies.\n",
      "Page 259: Retrieved 20 movies.\n",
      "Page 260: Retrieved 20 movies.\n",
      "Page 261: Retrieved 20 movies.\n",
      "Page 262: Retrieved 20 movies.\n",
      "Page 263: Retrieved 20 movies.\n",
      "Page 264: Retrieved 20 movies.\n",
      "Page 265: Retrieved 20 movies.\n",
      "Page 266: Retrieved 20 movies.\n",
      "Page 267: Retrieved 20 movies.\n",
      "Page 268: Retrieved 20 movies.\n",
      "Page 269: Retrieved 20 movies.\n",
      "Page 270: Retrieved 20 movies.\n",
      "Page 271: Retrieved 20 movies.\n",
      "Page 272: Retrieved 20 movies.\n",
      "Page 273: Retrieved 20 movies.\n",
      "Page 274: Retrieved 20 movies.\n",
      "Page 275: Retrieved 20 movies.\n",
      "Page 276: Retrieved 20 movies.\n",
      "Page 277: Retrieved 20 movies.\n",
      "Page 278: Retrieved 20 movies.\n",
      "Page 279: Retrieved 20 movies.\n",
      "Page 280: Retrieved 20 movies.\n",
      "Page 281: Retrieved 20 movies.\n",
      "Page 282: Retrieved 20 movies.\n",
      "Page 283: Retrieved 20 movies.\n",
      "Page 284: Retrieved 20 movies.\n",
      "Page 285: Retrieved 20 movies.\n",
      "Page 286: Retrieved 20 movies.\n",
      "Page 287: Retrieved 20 movies.\n",
      "Page 288: Retrieved 20 movies.\n",
      "Page 289: Retrieved 20 movies.\n",
      "Page 290: Retrieved 20 movies.\n",
      "Page 291: Retrieved 20 movies.\n",
      "Page 292: Retrieved 20 movies.\n",
      "Page 293: Retrieved 20 movies.\n",
      "Page 294: Retrieved 20 movies.\n",
      "Page 295: Retrieved 20 movies.\n",
      "Page 296: Retrieved 20 movies.\n",
      "Page 297: Retrieved 20 movies.\n",
      "Page 298: Retrieved 20 movies.\n",
      "Page 299: Retrieved 20 movies.\n",
      "Page 300: Retrieved 20 movies.\n",
      "Page 301: Retrieved 20 movies.\n",
      "Page 302: Retrieved 20 movies.\n",
      "Page 303: Retrieved 20 movies.\n",
      "Page 304: Retrieved 20 movies.\n",
      "Page 305: Retrieved 20 movies.\n",
      "Page 306: Retrieved 20 movies.\n",
      "Page 307: Retrieved 20 movies.\n",
      "Page 308: Retrieved 20 movies.\n",
      "Page 309: Retrieved 20 movies.\n",
      "Page 310: Retrieved 20 movies.\n",
      "Page 311: Retrieved 20 movies.\n",
      "Page 312: Retrieved 20 movies.\n",
      "Page 313: Retrieved 20 movies.\n",
      "Page 314: Retrieved 20 movies.\n",
      "Page 315: Retrieved 20 movies.\n",
      "Page 316: Retrieved 20 movies.\n",
      "Page 317: Retrieved 20 movies.\n",
      "Page 318: Retrieved 20 movies.\n",
      "Page 319: Retrieved 20 movies.\n",
      "Page 320: Retrieved 20 movies.\n",
      "Page 321: Retrieved 20 movies.\n",
      "Page 322: Retrieved 20 movies.\n",
      "Page 323: Retrieved 20 movies.\n",
      "Page 324: Retrieved 20 movies.\n",
      "Page 325: Retrieved 20 movies.\n",
      "Page 326: Retrieved 20 movies.\n",
      "Page 327: Retrieved 20 movies.\n",
      "Page 328: Retrieved 20 movies.\n",
      "Page 329: Retrieved 20 movies.\n",
      "Page 330: Retrieved 20 movies.\n",
      "Page 331: Retrieved 20 movies.\n",
      "Page 332: Retrieved 20 movies.\n",
      "Page 333: Retrieved 20 movies.\n",
      "Page 334: Retrieved 20 movies.\n",
      "Page 335: Retrieved 20 movies.\n",
      "Page 336: Retrieved 20 movies.\n",
      "Page 337: Retrieved 20 movies.\n",
      "Page 338: Retrieved 20 movies.\n",
      "Page 339: Retrieved 20 movies.\n",
      "Page 340: Retrieved 20 movies.\n",
      "Page 341: Retrieved 20 movies.\n",
      "Page 342: Retrieved 20 movies.\n",
      "Page 343: Retrieved 20 movies.\n",
      "Page 344: Retrieved 20 movies.\n",
      "Page 345: Retrieved 20 movies.\n",
      "Page 346: Retrieved 20 movies.\n",
      "Page 347: Retrieved 20 movies.\n",
      "Page 348: Retrieved 20 movies.\n",
      "Page 349: Retrieved 20 movies.\n",
      "Page 350: Retrieved 20 movies.\n",
      "Page 351: Retrieved 20 movies.\n",
      "Page 352: Retrieved 20 movies.\n",
      "Page 353: Retrieved 20 movies.\n",
      "Page 354: Retrieved 20 movies.\n",
      "Page 355: Retrieved 20 movies.\n",
      "Page 356: Retrieved 20 movies.\n",
      "Page 357: Retrieved 20 movies.\n",
      "Page 358: Retrieved 20 movies.\n",
      "Page 359: Retrieved 20 movies.\n",
      "Page 360: Retrieved 20 movies.\n",
      "Page 361: Retrieved 20 movies.\n",
      "Page 362: Retrieved 20 movies.\n",
      "Page 363: Retrieved 20 movies.\n",
      "Page 364: Retrieved 20 movies.\n",
      "Page 365: Retrieved 20 movies.\n",
      "Page 366: Retrieved 20 movies.\n",
      "Page 367: Retrieved 20 movies.\n",
      "Page 368: Retrieved 20 movies.\n",
      "Page 369: Retrieved 20 movies.\n",
      "Page 370: Retrieved 20 movies.\n",
      "Page 371: Retrieved 20 movies.\n",
      "Page 372: Retrieved 20 movies.\n",
      "Page 373: Retrieved 20 movies.\n",
      "Page 374: Retrieved 20 movies.\n",
      "Page 375: Retrieved 20 movies.\n",
      "Page 376: Retrieved 20 movies.\n",
      "Page 377: Retrieved 20 movies.\n",
      "Page 378: Retrieved 20 movies.\n",
      "Page 379: Retrieved 20 movies.\n",
      "Page 380: Retrieved 20 movies.\n",
      "Page 381: Retrieved 20 movies.\n",
      "Page 382: Retrieved 20 movies.\n",
      "Page 383: Retrieved 20 movies.\n",
      "Page 384: Retrieved 20 movies.\n",
      "Page 385: Retrieved 20 movies.\n",
      "Page 386: Retrieved 20 movies.\n",
      "Page 387: Retrieved 20 movies.\n",
      "Page 388: Retrieved 20 movies.\n",
      "Page 389: Retrieved 20 movies.\n",
      "Page 390: Retrieved 20 movies.\n",
      "Page 391: Retrieved 20 movies.\n",
      "Page 392: Retrieved 20 movies.\n",
      "Page 393: Retrieved 20 movies.\n",
      "Page 394: Retrieved 20 movies.\n",
      "Page 395: Retrieved 20 movies.\n",
      "Page 396: Retrieved 20 movies.\n",
      "Page 397: Retrieved 20 movies.\n",
      "Page 398: Retrieved 20 movies.\n",
      "Page 399: Retrieved 20 movies.\n",
      "Page 400: Retrieved 20 movies.\n",
      "Page 401: Retrieved 20 movies.\n",
      "Page 402: Retrieved 20 movies.\n",
      "Page 403: Retrieved 20 movies.\n",
      "Page 404: Retrieved 20 movies.\n",
      "Page 405: Retrieved 20 movies.\n",
      "Page 406: Retrieved 20 movies.\n",
      "Page 407: Retrieved 20 movies.\n",
      "Page 408: Retrieved 20 movies.\n",
      "Page 409: Retrieved 20 movies.\n",
      "Page 410: Retrieved 20 movies.\n",
      "Page 411: Retrieved 20 movies.\n",
      "Page 412: Retrieved 20 movies.\n",
      "Page 413: Retrieved 20 movies.\n",
      "Page 414: Retrieved 20 movies.\n",
      "Page 415: Retrieved 20 movies.\n",
      "Page 416: Retrieved 20 movies.\n",
      "Page 417: Retrieved 20 movies.\n",
      "Page 418: Retrieved 20 movies.\n",
      "Page 419: Retrieved 20 movies.\n",
      "Page 420: Retrieved 20 movies.\n",
      "Page 421: Retrieved 20 movies.\n",
      "Page 422: Retrieved 20 movies.\n",
      "Page 423: Retrieved 20 movies.\n",
      "Page 424: Retrieved 20 movies.\n",
      "Page 425: Retrieved 20 movies.\n",
      "Page 426: Retrieved 20 movies.\n",
      "Page 427: Retrieved 20 movies.\n",
      "Page 428: Retrieved 20 movies.\n",
      "Page 429: Retrieved 20 movies.\n",
      "Page 430: Retrieved 20 movies.\n",
      "Page 431: Retrieved 20 movies.\n",
      "Page 432: Retrieved 20 movies.\n",
      "Page 433: Retrieved 20 movies.\n",
      "Page 434: Retrieved 20 movies.\n",
      "Page 435: Retrieved 20 movies.\n",
      "Page 436: Retrieved 20 movies.\n",
      "Page 437: Retrieved 20 movies.\n",
      "Page 438: Retrieved 20 movies.\n",
      "Page 439: Retrieved 20 movies.\n",
      "Page 440: Retrieved 20 movies.\n",
      "Page 441: Retrieved 20 movies.\n",
      "Page 442: Retrieved 20 movies.\n",
      "Page 443: Retrieved 20 movies.\n",
      "Page 444: Retrieved 20 movies.\n",
      "Page 445: Retrieved 20 movies.\n",
      "Page 446: Retrieved 20 movies.\n",
      "Page 447: Retrieved 20 movies.\n",
      "Page 448: Retrieved 20 movies.\n",
      "Page 449: Retrieved 20 movies.\n",
      "Page 450: Retrieved 20 movies.\n",
      "Page 451: Retrieved 20 movies.\n",
      "Page 452: Retrieved 20 movies.\n",
      "Page 453: Retrieved 20 movies.\n",
      "Page 454: Retrieved 20 movies.\n",
      "Page 455: Retrieved 20 movies.\n",
      "Page 456: Retrieved 20 movies.\n",
      "Page 457: Retrieved 20 movies.\n",
      "Page 458: Retrieved 20 movies.\n",
      "Page 459: Retrieved 20 movies.\n",
      "Page 460: Retrieved 20 movies.\n",
      "Page 461: Retrieved 20 movies.\n",
      "Page 462: Retrieved 20 movies.\n",
      "Page 463: Retrieved 20 movies.\n",
      "Page 464: Retrieved 20 movies.\n",
      "Page 465: Retrieved 20 movies.\n",
      "Page 466: Retrieved 20 movies.\n",
      "Page 467: Retrieved 20 movies.\n",
      "Page 468: Retrieved 20 movies.\n",
      "Page 469: Retrieved 20 movies.\n",
      "Page 470: Retrieved 20 movies.\n",
      "Page 471: Retrieved 20 movies.\n"
     ]
    }
   ],
   "source": [
    "\n",
    "# Define the base URL and API key\n",
    "api_key = '8265bd1679663a7ea12ac168da84d2e8'\n",
    "base_url = 'https://api.themoviedb.org/3/movie/top_rated'\n",
    "\n",
    "# Fetch genre list\n",
    "genre_url = f'https://api.themoviedb.org/3/genre/movie/list?api_key={api_key}&language=en-US'\n",
    "genre_response = requests.get(genre_url)\n",
    "genres_data = genre_response.json()\n",
    "genres = {genre['id']: genre['name'] for genre in genres_data['genres']}\n",
    "\n",
    "# Prepare an empty list to store movie data\n",
    "all_movies = []\n",
    "\n",
    "# Loop through all 471 pages\n",
    "for page in range(1, 472):  # Pages from 1 to 471\n",
    "    url = f'{base_url}?api_key={api_key}&language=en-US&page={page}'\n",
    "    \n",
    "    # Make the request to the API\n",
    "    response = requests.get(url)\n",
    "    \n",
    "    # Check if the request was successful\n",
    "    if response.status_code == 200:\n",
    "        data = response.json()\n",
    "        movies = data.get('results', [])\n",
    "        \n",
    "        # Debug: Check how many movies were retrieved from this page\n",
    "        print(f\"Page {page}: Retrieved {len(movies)} movies.\")\n",
    "        \n",
    "        # Extract relevant movie details\n",
    "        for movie in movies:\n",
    "            # Get the genre names from the genre IDs\n",
    "            genre_names = [genres[genre_id] for genre_id in movie.get('genre_ids', [])]\n",
    "            \n",
    "            all_movies.append({\n",
    "                'title': movie.get('title'),\n",
    "                'overview': movie.get('overview'),\n",
    "                'genres': ', '.join(genre_names)  # Join genres as a comma-separated string\n",
    "            })\n",
    "    else:\n",
    "        print(f\"Failed to retrieve data for page {page}: {response.status_code}\")\n",
    "    \n",
    "    # Sleep for a short duration to avoid hitting rate limits\n",
    "    time.sleep(0.5)\n",
    "\n",
    "# Convert the list of dictionaries into a pandas DataFrame\n"
   ]
  },
  {
   "cell_type": "code",
   "execution_count": 5,
   "id": "ba20a5c8-0f42-4004-9b1f-aaa7f97404a2",
   "metadata": {},
   "outputs": [],
   "source": [
    "df = pd.DataFrame(all_movies)\n",
    "\n",
    "df.to_csv('top_rated_movies_full.csv', index=False)\n",
    "# print(f\"Total number of movies retrieved: {len(df)}\")\n"
   ]
  },
  {
   "cell_type": "code",
   "execution_count": 6,
   "id": "812688d6-eda3-4445-826c-dd9c63dce3f1",
   "metadata": {},
   "outputs": [],
   "source": [
    "df = pd.read_csv('top_rated_movies_full.csv')"
   ]
  },
  {
   "cell_type": "code",
   "execution_count": 7,
   "id": "28f16bd1-0167-46b1-8ed2-8d3e73e25047",
   "metadata": {},
   "outputs": [
    {
     "data": {
      "text/html": [
       "<div>\n",
       "<style scoped>\n",
       "    .dataframe tbody tr th:only-of-type {\n",
       "        vertical-align: middle;\n",
       "    }\n",
       "\n",
       "    .dataframe tbody tr th {\n",
       "        vertical-align: top;\n",
       "    }\n",
       "\n",
       "    .dataframe thead th {\n",
       "        text-align: right;\n",
       "    }\n",
       "</style>\n",
       "<table border=\"1\" class=\"dataframe\">\n",
       "  <thead>\n",
       "    <tr style=\"text-align: right;\">\n",
       "      <th></th>\n",
       "      <th>title</th>\n",
       "      <th>overview</th>\n",
       "      <th>genres</th>\n",
       "    </tr>\n",
       "  </thead>\n",
       "  <tbody>\n",
       "    <tr>\n",
       "      <th>0</th>\n",
       "      <td>The Shawshank Redemption</td>\n",
       "      <td>Imprisoned in the 1940s for the double murder ...</td>\n",
       "      <td>Drama, Crime</td>\n",
       "    </tr>\n",
       "    <tr>\n",
       "      <th>1</th>\n",
       "      <td>The Godfather</td>\n",
       "      <td>Spanning the years 1945 to 1955, a chronicle o...</td>\n",
       "      <td>Drama, Crime</td>\n",
       "    </tr>\n",
       "    <tr>\n",
       "      <th>2</th>\n",
       "      <td>The Wild Robot</td>\n",
       "      <td>After a shipwreck, an intelligent robot called...</td>\n",
       "      <td>Animation, Science Fiction, Family</td>\n",
       "    </tr>\n",
       "    <tr>\n",
       "      <th>3</th>\n",
       "      <td>The Godfather Part II</td>\n",
       "      <td>In the continuing saga of the Corleone crime f...</td>\n",
       "      <td>Drama, Crime</td>\n",
       "    </tr>\n",
       "    <tr>\n",
       "      <th>4</th>\n",
       "      <td>Schindler's List</td>\n",
       "      <td>The true story of how businessman Oskar Schind...</td>\n",
       "      <td>Drama, History, War</td>\n",
       "    </tr>\n",
       "    <tr>\n",
       "      <th>...</th>\n",
       "      <td>...</td>\n",
       "      <td>...</td>\n",
       "      <td>...</td>\n",
       "    </tr>\n",
       "    <tr>\n",
       "      <th>9415</th>\n",
       "      <td>Open Windows</td>\n",
       "      <td>Nick is excited to discover he's won a dinner ...</td>\n",
       "      <td>Thriller, Action, Crime</td>\n",
       "    </tr>\n",
       "    <tr>\n",
       "      <th>9416</th>\n",
       "      <td>Vampire in Brooklyn</td>\n",
       "      <td>Detective Rita Veder is assigned to a baffling...</td>\n",
       "      <td>Comedy, Horror, Romance</td>\n",
       "    </tr>\n",
       "    <tr>\n",
       "      <th>9417</th>\n",
       "      <td>Bushwick</td>\n",
       "      <td>When an unknown military force invades Bushwic...</td>\n",
       "      <td>Thriller, Action</td>\n",
       "    </tr>\n",
       "    <tr>\n",
       "      <th>9418</th>\n",
       "      <td>A Wrinkle in Time</td>\n",
       "      <td>After the disappearance of her scientist fathe...</td>\n",
       "      <td>Adventure, Science Fiction, Family, Fantasy</td>\n",
       "    </tr>\n",
       "    <tr>\n",
       "      <th>9419</th>\n",
       "      <td>Winnie the Pooh: Blood and Honey</td>\n",
       "      <td>Christopher Robin is headed off to college and...</td>\n",
       "      <td>Horror, Thriller</td>\n",
       "    </tr>\n",
       "  </tbody>\n",
       "</table>\n",
       "<p>9420 rows × 3 columns</p>\n",
       "</div>"
      ],
      "text/plain": [
       "                                 title  \\\n",
       "0             The Shawshank Redemption   \n",
       "1                        The Godfather   \n",
       "2                       The Wild Robot   \n",
       "3                The Godfather Part II   \n",
       "4                     Schindler's List   \n",
       "...                                ...   \n",
       "9415                      Open Windows   \n",
       "9416               Vampire in Brooklyn   \n",
       "9417                          Bushwick   \n",
       "9418                 A Wrinkle in Time   \n",
       "9419  Winnie the Pooh: Blood and Honey   \n",
       "\n",
       "                                               overview  \\\n",
       "0     Imprisoned in the 1940s for the double murder ...   \n",
       "1     Spanning the years 1945 to 1955, a chronicle o...   \n",
       "2     After a shipwreck, an intelligent robot called...   \n",
       "3     In the continuing saga of the Corleone crime f...   \n",
       "4     The true story of how businessman Oskar Schind...   \n",
       "...                                                 ...   \n",
       "9415  Nick is excited to discover he's won a dinner ...   \n",
       "9416  Detective Rita Veder is assigned to a baffling...   \n",
       "9417  When an unknown military force invades Bushwic...   \n",
       "9418  After the disappearance of her scientist fathe...   \n",
       "9419  Christopher Robin is headed off to college and...   \n",
       "\n",
       "                                           genres  \n",
       "0                                    Drama, Crime  \n",
       "1                                    Drama, Crime  \n",
       "2              Animation, Science Fiction, Family  \n",
       "3                                    Drama, Crime  \n",
       "4                             Drama, History, War  \n",
       "...                                           ...  \n",
       "9415                      Thriller, Action, Crime  \n",
       "9416                      Comedy, Horror, Romance  \n",
       "9417                             Thriller, Action  \n",
       "9418  Adventure, Science Fiction, Family, Fantasy  \n",
       "9419                             Horror, Thriller  \n",
       "\n",
       "[9420 rows x 3 columns]"
      ]
     },
     "execution_count": 7,
     "metadata": {},
     "output_type": "execute_result"
    }
   ],
   "source": [
    "df"
   ]
  },
  {
   "cell_type": "code",
   "execution_count": 8,
   "id": "e97c5e4e-b965-4caf-a84d-967af3a09d77",
   "metadata": {},
   "outputs": [
    {
     "data": {
      "text/plain": [
       "'under the direction of a ruthless instructor, a talented young drummer begins to pursue perfection at any cost, even his humanity.'"
      ]
     },
     "execution_count": 8,
     "metadata": {},
     "output_type": "execute_result"
    }
   ],
   "source": [
    "df['overview'][45].lower()"
   ]
  },
  {
   "cell_type": "code",
   "execution_count": 9,
   "id": "176aecbd-ae11-4dd5-aa46-125a1348df11",
   "metadata": {},
   "outputs": [],
   "source": [
    "df['title'] = df['title'].str.lower()"
   ]
  },
  {
   "cell_type": "code",
   "execution_count": 10,
   "id": "bc4738d6-b7a5-4ae3-b1ad-67bd49694d60",
   "metadata": {},
   "outputs": [],
   "source": [
    "df['overview'] = df['overview'].str.lower()"
   ]
  },
  {
   "cell_type": "code",
   "execution_count": 11,
   "id": "ba2bddb4-1a1c-4f6e-93e9-13ba7512754a",
   "metadata": {},
   "outputs": [],
   "source": [
    "df['genres'] = df['genres'].str.lower()"
   ]
  },
  {
   "cell_type": "code",
   "execution_count": 12,
   "id": "5d61ce0e-f056-43f4-be04-24d93d4fc607",
   "metadata": {},
   "outputs": [],
   "source": [
    "df.dropna(inplace=True)"
   ]
  },
  {
   "cell_type": "code",
   "execution_count": 13,
   "id": "8181b3f7-1a38-4ae9-828f-d454b692f831",
   "metadata": {},
   "outputs": [
    {
     "data": {
      "text/plain": [
       "0"
      ]
     },
     "execution_count": 13,
     "metadata": {},
     "output_type": "execute_result"
    }
   ],
   "source": [
    "df['overview'].isnull().sum()"
   ]
  },
  {
   "cell_type": "code",
   "execution_count": 14,
   "id": "696ebfcc-82fc-4d0f-ada9-0e5cbd4d01e0",
   "metadata": {},
   "outputs": [
    {
     "data": {
      "text/plain": [
       "'the true story of how businessman oskar schindler saved over a thousand jewish lives from the nazis while they worked as slaves in his factory during world war ii.'"
      ]
     },
     "execution_count": 14,
     "metadata": {},
     "output_type": "execute_result"
    }
   ],
   "source": [
    "df['overview'][4]"
   ]
  },
  {
   "cell_type": "markdown",
   "id": "730150c5-f6e8-41f5-bc2a-4ca64d92bacd",
   "metadata": {},
   "source": [
    "# remove htmls"
   ]
  },
  {
   "cell_type": "code",
   "execution_count": 15,
   "id": "2fbd7cdf-556c-472e-ae7d-805ee41f99b6",
   "metadata": {},
   "outputs": [],
   "source": [
    "import re\n",
    "def remove_html(text):\n",
    "    sentence = re.compile('<.*?>')\n",
    "    return sentence.sub(r'',text)"
   ]
  },
  {
   "cell_type": "code",
   "execution_count": 16,
   "id": "0bc8c56c-36e9-4176-8e06-a39350440229",
   "metadata": {},
   "outputs": [],
   "source": [
    "text = \"<html><body><p> Movie 1</p><p> Actor - Aamir Khan</p><p> Click here to <a href='http://google.com'>download</a></p></body></html>\""
   ]
  },
  {
   "cell_type": "code",
   "execution_count": 17,
   "id": "1eabf348-dd3c-49c3-8c5c-44ea1cbaa1b4",
   "metadata": {},
   "outputs": [
    {
     "data": {
      "text/plain": [
       "' Movie 1 Actor - Aamir Khan Click here to download'"
      ]
     },
     "execution_count": 17,
     "metadata": {},
     "output_type": "execute_result"
    }
   ],
   "source": [
    "remove_html(text)"
   ]
  },
  {
   "cell_type": "code",
   "execution_count": 18,
   "id": "6964e8a7-66df-4903-9614-45137a955aa8",
   "metadata": {},
   "outputs": [],
   "source": [
    "df['overview'] = df['overview'].apply(remove_html)"
   ]
  },
  {
   "cell_type": "code",
   "execution_count": 19,
   "id": "59f68bd1-df85-4aa9-a883-8d77baa895ae",
   "metadata": {},
   "outputs": [
    {
     "data": {
      "text/plain": [
       "9419"
      ]
     },
     "execution_count": 19,
     "metadata": {},
     "output_type": "execute_result"
    }
   ],
   "source": [
    "len(df['overview'])"
   ]
  },
  {
   "cell_type": "markdown",
   "id": "d1712fa1-f30a-40f0-b3d3-8a35a6bcf05e",
   "metadata": {},
   "source": [
    "# remove URL"
   ]
  },
  {
   "cell_type": "code",
   "execution_count": 20,
   "id": "da95f1ac-2d92-45ec-9609-12921f1e0f88",
   "metadata": {},
   "outputs": [],
   "source": [
    "def remove_url(text):\n",
    "    sentence = re.compile(r'https?://\\S+|www\\.\\S+')\n",
    "    return sentence.sub(r'',text)"
   ]
  },
  {
   "cell_type": "code",
   "execution_count": 21,
   "id": "63f4d381-c2b3-4fa3-bbec-fa726e31840b",
   "metadata": {},
   "outputs": [
    {
     "data": {
      "text/plain": [
       "\"<html><body><p> Movie 1</p><p> Actor - Aamir Khan</p><p> Click here to <a href='\""
      ]
     },
     "execution_count": 21,
     "metadata": {},
     "output_type": "execute_result"
    }
   ],
   "source": [
    "remove_url(text)"
   ]
  },
  {
   "cell_type": "code",
   "execution_count": 22,
   "id": "cfa1c45e-c9b6-403e-b78a-c3198637f137",
   "metadata": {},
   "outputs": [],
   "source": [
    "df['overview'] = df['overview'].apply(remove_url)"
   ]
  },
  {
   "cell_type": "markdown",
   "id": "91cf9bb9-965f-48c6-bb78-94ca6c4cc377",
   "metadata": {},
   "source": [
    "# remove punctuation "
   ]
  },
  {
   "cell_type": "code",
   "execution_count": 23,
   "id": "47943e63-ff84-4a5b-a37d-ca1153fc8f77",
   "metadata": {},
   "outputs": [],
   "source": [
    "import string ,time\n",
    "exclude = string.punctuation"
   ]
  },
  {
   "cell_type": "code",
   "execution_count": 24,
   "id": "8ab3b317-ce0e-4b66-899e-4a22edb9631d",
   "metadata": {},
   "outputs": [
    {
     "data": {
      "text/plain": [
       "'!\"#$%&\\'()*+,-./:;<=>?@[\\\\]^_`{|}~'"
      ]
     },
     "execution_count": 24,
     "metadata": {},
     "output_type": "execute_result"
    }
   ],
   "source": [
    "exclude"
   ]
  },
  {
   "cell_type": "code",
   "execution_count": 25,
   "id": "8ad1f24b-f542-48ec-8a42-ad86d6853b50",
   "metadata": {},
   "outputs": [],
   "source": [
    "def remove_punct(text):\n",
    "    for char in exclude:\n",
    "        text = text.replace(char , '')\n",
    "    return text"
   ]
  },
  {
   "cell_type": "code",
   "execution_count": 26,
   "id": "51878bab-5c22-4fdd-8935-dda7d6415992",
   "metadata": {},
   "outputs": [
    {
     "data": {
      "text/plain": [
       "'htmlbodyp Movie 1pp Actor  Aamir Khanpp Click here to a hrefhttpgooglecomdownloadapbodyhtml'"
      ]
     },
     "execution_count": 26,
     "metadata": {},
     "output_type": "execute_result"
    }
   ],
   "source": [
    "remove_punct(text)"
   ]
  },
  {
   "cell_type": "code",
   "execution_count": 27,
   "id": "11be5aa6-cb71-4398-b858-8754d69d3a29",
   "metadata": {},
   "outputs": [],
   "source": [
    "df['overview'] = df['overview'].apply(remove_punct)"
   ]
  },
  {
   "cell_type": "code",
   "execution_count": 28,
   "id": "746baa5b-8eaa-4e13-a260-09677dd409e2",
   "metadata": {},
   "outputs": [
    {
     "name": "stdout",
     "output_type": "stream",
     "text": [
      "0.42218494415283203\n"
     ]
    }
   ],
   "source": [
    "start = time.time()\n",
    "remove_punct(text)\n",
    "time1 = time.time() - start\n",
    "print(time1*9419)"
   ]
  },
  {
   "cell_type": "code",
   "execution_count": 29,
   "id": "6794a13c-d669-453d-8ea1-a90adf47a898",
   "metadata": {},
   "outputs": [],
   "source": [
    "def reduce_time(text):\n",
    "    return text.translate(str.make_trans('','',exclude))"
   ]
  },
  {
   "cell_type": "code",
   "execution_count": 30,
   "id": "38033330-4cc1-49f7-81cd-8fe233106741",
   "metadata": {},
   "outputs": [
    {
     "name": "stdout",
     "output_type": "stream",
     "text": [
      "0.3795173168182373\n"
     ]
    }
   ],
   "source": [
    "start = time.time()\n",
    "remove_punct(text)\n",
    "time1 = time.time() - start\n",
    "print(time1*9419)"
   ]
  },
  {
   "cell_type": "code",
   "execution_count": 31,
   "id": "82ce0221-cc79-4b97-92f3-90843183b061",
   "metadata": {},
   "outputs": [],
   "source": [
    "from textblob import TextBlob"
   ]
  },
  {
   "cell_type": "code",
   "execution_count": 32,
   "id": "bdccd1c3-815f-42d9-b888-c52d042f25ce",
   "metadata": {},
   "outputs": [
    {
     "data": {
      "text/plain": [
       "'certain conditions during several generations are modified in the same manner.'"
      ]
     },
     "execution_count": 32,
     "metadata": {},
     "output_type": "execute_result"
    }
   ],
   "source": [
    "incorrect_text = 'ceertain conditionas duriing seveal ggenerations aree moodified in the saame maner.'\n",
    "textblb = TextBlob(incorrect_text)\n",
    "textblb.correct().string"
   ]
  },
  {
   "cell_type": "code",
   "execution_count": 33,
   "id": "553e1b13-7b6c-488c-8d7b-11109082a97f",
   "metadata": {},
   "outputs": [],
   "source": [
    "from nltk.corpus import stopwords"
   ]
  },
  {
   "cell_type": "code",
   "execution_count": 34,
   "id": "c8b669a7-2cb9-403c-b688-5382def292dd",
   "metadata": {
    "scrolled": true
   },
   "outputs": [
    {
     "data": {
      "text/plain": [
       "['i',\n",
       " 'me',\n",
       " 'my',\n",
       " 'myself',\n",
       " 'we',\n",
       " 'our',\n",
       " 'ours',\n",
       " 'ourselves',\n",
       " 'you',\n",
       " \"you're\",\n",
       " \"you've\",\n",
       " \"you'll\",\n",
       " \"you'd\",\n",
       " 'your',\n",
       " 'yours',\n",
       " 'yourself',\n",
       " 'yourselves',\n",
       " 'he',\n",
       " 'him',\n",
       " 'his',\n",
       " 'himself',\n",
       " 'she',\n",
       " \"she's\",\n",
       " 'her',\n",
       " 'hers',\n",
       " 'herself',\n",
       " 'it',\n",
       " \"it's\",\n",
       " 'its',\n",
       " 'itself',\n",
       " 'they',\n",
       " 'them',\n",
       " 'their',\n",
       " 'theirs',\n",
       " 'themselves',\n",
       " 'what',\n",
       " 'which',\n",
       " 'who',\n",
       " 'whom',\n",
       " 'this',\n",
       " 'that',\n",
       " \"that'll\",\n",
       " 'these',\n",
       " 'those',\n",
       " 'am',\n",
       " 'is',\n",
       " 'are',\n",
       " 'was',\n",
       " 'were',\n",
       " 'be',\n",
       " 'been',\n",
       " 'being',\n",
       " 'have',\n",
       " 'has',\n",
       " 'had',\n",
       " 'having',\n",
       " 'do',\n",
       " 'does',\n",
       " 'did',\n",
       " 'doing',\n",
       " 'a',\n",
       " 'an',\n",
       " 'the',\n",
       " 'and',\n",
       " 'but',\n",
       " 'if',\n",
       " 'or',\n",
       " 'because',\n",
       " 'as',\n",
       " 'until',\n",
       " 'while',\n",
       " 'of',\n",
       " 'at',\n",
       " 'by',\n",
       " 'for',\n",
       " 'with',\n",
       " 'about',\n",
       " 'against',\n",
       " 'between',\n",
       " 'into',\n",
       " 'through',\n",
       " 'during',\n",
       " 'before',\n",
       " 'after',\n",
       " 'above',\n",
       " 'below',\n",
       " 'to',\n",
       " 'from',\n",
       " 'up',\n",
       " 'down',\n",
       " 'in',\n",
       " 'out',\n",
       " 'on',\n",
       " 'off',\n",
       " 'over',\n",
       " 'under',\n",
       " 'again',\n",
       " 'further',\n",
       " 'then',\n",
       " 'once',\n",
       " 'here',\n",
       " 'there',\n",
       " 'when',\n",
       " 'where',\n",
       " 'why',\n",
       " 'how',\n",
       " 'all',\n",
       " 'any',\n",
       " 'both',\n",
       " 'each',\n",
       " 'few',\n",
       " 'more',\n",
       " 'most',\n",
       " 'other',\n",
       " 'some',\n",
       " 'such',\n",
       " 'no',\n",
       " 'nor',\n",
       " 'not',\n",
       " 'only',\n",
       " 'own',\n",
       " 'same',\n",
       " 'so',\n",
       " 'than',\n",
       " 'too',\n",
       " 'very',\n",
       " 's',\n",
       " 't',\n",
       " 'can',\n",
       " 'will',\n",
       " 'just',\n",
       " 'don',\n",
       " \"don't\",\n",
       " 'should',\n",
       " \"should've\",\n",
       " 'now',\n",
       " 'd',\n",
       " 'll',\n",
       " 'm',\n",
       " 'o',\n",
       " 're',\n",
       " 've',\n",
       " 'y',\n",
       " 'ain',\n",
       " 'aren',\n",
       " \"aren't\",\n",
       " 'couldn',\n",
       " \"couldn't\",\n",
       " 'didn',\n",
       " \"didn't\",\n",
       " 'doesn',\n",
       " \"doesn't\",\n",
       " 'hadn',\n",
       " \"hadn't\",\n",
       " 'hasn',\n",
       " \"hasn't\",\n",
       " 'haven',\n",
       " \"haven't\",\n",
       " 'isn',\n",
       " \"isn't\",\n",
       " 'ma',\n",
       " 'mightn',\n",
       " \"mightn't\",\n",
       " 'mustn',\n",
       " \"mustn't\",\n",
       " 'needn',\n",
       " \"needn't\",\n",
       " 'shan',\n",
       " \"shan't\",\n",
       " 'shouldn',\n",
       " \"shouldn't\",\n",
       " 'wasn',\n",
       " \"wasn't\",\n",
       " 'weren',\n",
       " \"weren't\",\n",
       " 'won',\n",
       " \"won't\",\n",
       " 'wouldn',\n",
       " \"wouldn't\"]"
      ]
     },
     "execution_count": 34,
     "metadata": {},
     "output_type": "execute_result"
    }
   ],
   "source": [
    "stopwords.words('english')"
   ]
  },
  {
   "cell_type": "code",
   "execution_count": 35,
   "id": "ff775917-695f-4025-9599-be5a14b1c6d0",
   "metadata": {},
   "outputs": [],
   "source": [
    "def remove_words(text):\n",
    "    new_text = []\n",
    "    for word in text.split():\n",
    "        if word in stopwords.words('english'):\n",
    "            new_text.append('')\n",
    "        else:\n",
    "            new_text.append(word)\n",
    "    x = new_text[:]\n",
    "    new_text.clear()\n",
    "    return \" \".join(x)"
   ]
  },
  {
   "cell_type": "code",
   "execution_count": 36,
   "id": "15b45814-8e54-4679-aa8a-593670ff2cf0",
   "metadata": {},
   "outputs": [
    {
     "data": {
      "text/plain": [
       "' defense   prosecution  rested   jury  filing   jury room  decide   young spanishamerican  guilty  innocent  murdering  father  begins   open  shut case soon becomes  minidrama     jurors prejudices  preconceptions   trial  accused   '"
      ]
     },
     "execution_count": 36,
     "metadata": {},
     "output_type": "execute_result"
    }
   ],
   "source": [
    "remove_words('the defense and the prosecution have rested and the jury is filing into the jury room to decide if a young spanishamerican is guilty or innocent of murdering his father what begins as an open and shut case soon becomes a minidrama of each of the jurors prejudices and preconceptions about the trial the accused and each other')"
   ]
  },
  {
   "cell_type": "code",
   "execution_count": null,
   "id": "23e23f62-3a1c-44a4-bcd8-fe6216ad1fb0",
   "metadata": {},
   "outputs": [],
   "source": []
  },
  {
   "cell_type": "code",
   "execution_count": 37,
   "id": "199ac3dc-455b-4fde-b4e6-21d4abbb9375",
   "metadata": {},
   "outputs": [],
   "source": [
    "df['overview'] = df['overview'].apply(remove_words)"
   ]
  },
  {
   "cell_type": "code",
   "execution_count": 38,
   "id": "2d08c4fd-cf75-4d4b-8b58-fe2a1638fe4e",
   "metadata": {},
   "outputs": [
    {
     "data": {
      "text/html": [
       "<div>\n",
       "<style scoped>\n",
       "    .dataframe tbody tr th:only-of-type {\n",
       "        vertical-align: middle;\n",
       "    }\n",
       "\n",
       "    .dataframe tbody tr th {\n",
       "        vertical-align: top;\n",
       "    }\n",
       "\n",
       "    .dataframe thead th {\n",
       "        text-align: right;\n",
       "    }\n",
       "</style>\n",
       "<table border=\"1\" class=\"dataframe\">\n",
       "  <thead>\n",
       "    <tr style=\"text-align: right;\">\n",
       "      <th></th>\n",
       "      <th>title</th>\n",
       "      <th>overview</th>\n",
       "      <th>genres</th>\n",
       "    </tr>\n",
       "  </thead>\n",
       "  <tbody>\n",
       "    <tr>\n",
       "      <th>0</th>\n",
       "      <td>the shawshank redemption</td>\n",
       "      <td>imprisoned   1940s   double murder   wife   lo...</td>\n",
       "      <td>drama, crime</td>\n",
       "    </tr>\n",
       "    <tr>\n",
       "      <th>1</th>\n",
       "      <td>the godfather</td>\n",
       "      <td>spanning  years 1945  1955  chronicle   fictio...</td>\n",
       "      <td>drama, crime</td>\n",
       "    </tr>\n",
       "    <tr>\n",
       "      <th>2</th>\n",
       "      <td>the wild robot</td>\n",
       "      <td>shipwreck  intelligent robot called roz  str...</td>\n",
       "      <td>animation, science fiction, family</td>\n",
       "    </tr>\n",
       "    <tr>\n",
       "      <th>3</th>\n",
       "      <td>the godfather part ii</td>\n",
       "      <td>continuing saga   corleone crime family  you...</td>\n",
       "      <td>drama, crime</td>\n",
       "    </tr>\n",
       "    <tr>\n",
       "      <th>4</th>\n",
       "      <td>schindler's list</td>\n",
       "      <td>true story   businessman oskar schindler save...</td>\n",
       "      <td>drama, history, war</td>\n",
       "    </tr>\n",
       "  </tbody>\n",
       "</table>\n",
       "</div>"
      ],
      "text/plain": [
       "                      title  \\\n",
       "0  the shawshank redemption   \n",
       "1             the godfather   \n",
       "2            the wild robot   \n",
       "3     the godfather part ii   \n",
       "4          schindler's list   \n",
       "\n",
       "                                            overview  \\\n",
       "0  imprisoned   1940s   double murder   wife   lo...   \n",
       "1  spanning  years 1945  1955  chronicle   fictio...   \n",
       "2    shipwreck  intelligent robot called roz  str...   \n",
       "3    continuing saga   corleone crime family  you...   \n",
       "4   true story   businessman oskar schindler save...   \n",
       "\n",
       "                               genres  \n",
       "0                        drama, crime  \n",
       "1                        drama, crime  \n",
       "2  animation, science fiction, family  \n",
       "3                        drama, crime  \n",
       "4                 drama, history, war  "
      ]
     },
     "execution_count": 38,
     "metadata": {},
     "output_type": "execute_result"
    }
   ],
   "source": [
    "df.head()"
   ]
  },
  {
   "cell_type": "code",
   "execution_count": 39,
   "id": "60cd4c9b-7563-4d5e-b9b3-32282e8c7fa1",
   "metadata": {},
   "outputs": [],
   "source": [
    "import re\n",
    "def remove_emoji(text):\n",
    "    emoji_pattern = re.compile(\"[\"\n",
    "                           u\"\\U0001F600-\\U0001F64F\"  # emoticons\n",
    "                           u\"\\U0001F300-\\U0001F5FF\"  # symbols & pictographs\n",
    "                           u\"\\U0001F680-\\U0001F6FF\"  # transport & map symbols\n",
    "                           u\"\\U0001F1E0-\\U0001F1FF\"  # flags (iOS)\n",
    "                           u\"\\U00002702-\\U000027B0\"\n",
    "                           u\"\\U000024C2-\\U0001F251\"\n",
    "                           \"]+\", flags=re.UNICODE)\n",
    "    return emoji_pattern.sub(r'', text)"
   ]
  },
  {
   "cell_type": "code",
   "execution_count": 40,
   "id": "d03ffe13-e58f-4c1f-9750-f0121a018e0c",
   "metadata": {},
   "outputs": [
    {
     "data": {
      "text/plain": [
       "'hey this is so lovely, i loved it '"
      ]
     },
     "execution_count": 40,
     "metadata": {},
     "output_type": "execute_result"
    }
   ],
   "source": [
    "remove_emoji('hey this is so lovely,❤️❤️❤️💛💛 i loved it ')"
   ]
  },
  {
   "cell_type": "code",
   "execution_count": null,
   "id": "3d71f171-f20d-4c49-85c5-9d331e3a6163",
   "metadata": {},
   "outputs": [],
   "source": []
  },
  {
   "cell_type": "markdown",
   "id": "df48bbb2-aa9e-45df-9ac7-06279e96dcf5",
   "metadata": {},
   "source": [
    "# Splitting the sentences"
   ]
  },
  {
   "cell_type": "markdown",
   "id": "3a205e56-46a1-4f9d-83b6-6e85c6e2a59e",
   "metadata": {},
   "source": [
    "# using the spliting function"
   ]
  },
  {
   "cell_type": "code",
   "execution_count": 41,
   "id": "4c5f6fef-6b6b-4120-b7ae-2c630c7d009a",
   "metadata": {},
   "outputs": [
    {
     "data": {
      "text/plain": [
       "['i', 'am', 'going', 'to', 'delhi!']"
      ]
     },
     "execution_count": 41,
     "metadata": {},
     "output_type": "execute_result"
    }
   ],
   "source": [
    "sent1 = 'i am going to delhi!'\n",
    "sent1.split()"
   ]
  },
  {
   "cell_type": "code",
   "execution_count": 42,
   "id": "8580bac7-ca3e-4838-ae23-8d46d4e869a5",
   "metadata": {},
   "outputs": [
    {
     "data": {
      "text/plain": [
       "['i am going to delhi',\n",
       " ' i will return after two days till then you wait for us to go alwar',\n",
       " \"after that we'll go kahirthal together\",\n",
       " '']"
      ]
     },
     "execution_count": 42,
     "metadata": {},
     "output_type": "execute_result"
    }
   ],
   "source": [
    "sent2 = 'i am going to delhi. i will return after two days till then you wait for us to go alwar.after that we\\'ll go kahirthal together.'\n",
    "\n",
    "sent2.split('.')\n"
   ]
  },
  {
   "cell_type": "code",
   "execution_count": 43,
   "id": "72dd7c33-0297-4e40-a6b1-7078a15c000f",
   "metadata": {},
   "outputs": [
    {
     "data": {
      "text/plain": [
       "['what i have to do in this situation',\n",
       " '.we should either go home or take some action, tell us ']"
      ]
     },
     "execution_count": 43,
     "metadata": {},
     "output_type": "execute_result"
    }
   ],
   "source": [
    "sent3 = 'what i have to do in this situation?.we should either go home or take some action, tell us '\n",
    "sent3.split('?')"
   ]
  },
  {
   "cell_type": "markdown",
   "id": "16b633f7-7b17-4def-befa-081b8ce0b234",
   "metadata": {},
   "source": [
    "# Regular Expression"
   ]
  },
  {
   "cell_type": "code",
   "execution_count": 44,
   "id": "ecbeb7e4-93c5-4cb9-96b3-ca5de608d238",
   "metadata": {},
   "outputs": [
    {
     "data": {
      "text/plain": [
       "['i', 'am', 'going', 'to', 'delhi']"
      ]
     },
     "execution_count": 44,
     "metadata": {},
     "output_type": "execute_result"
    }
   ],
   "source": [
    "import re \n",
    "sent1 = 'i am going to delhi'\n",
    "token = re.findall(\"[\\w']+\" , sent1)\n",
    "token"
   ]
  },
  {
   "cell_type": "code",
   "execution_count": 45,
   "id": "c00be176-49ec-4a95-9cdc-a3af46dad32b",
   "metadata": {},
   "outputs": [
    {
     "data": {
      "text/plain": [
       "['Lorem Ipsum is simply dummy text of the printing and typesetting industry',\n",
       " \" \\nLorem Ipsum has been the industry's standard dummy text ever since the 1500s, \\nwhen an unknown printer took a galley of type and scrambled it to make a type specimen book\",\n",
       " '']"
      ]
     },
     "execution_count": 45,
     "metadata": {},
     "output_type": "execute_result"
    }
   ],
   "source": [
    "text = \"\"\"Lorem Ipsum is simply dummy text of the printing and typesetting industry? \n",
    "Lorem Ipsum has been the industry's standard dummy text ever since the 1500s, \n",
    "when an unknown printer took a galley of type and scrambled it to make a type specimen book.\"\"\"\n",
    "\n",
    "sentence = re.compile('[.!?]').split(text)\n",
    "sentence"
   ]
  },
  {
   "cell_type": "code",
   "execution_count": 46,
   "id": "134adc30-2848-4e64-9f8d-99bb1ea75f38",
   "metadata": {},
   "outputs": [],
   "source": [
    "from nltk.tokenize import word_tokenize,sent_tokenize"
   ]
  },
  {
   "cell_type": "code",
   "execution_count": 47,
   "id": "8aec34ac-daf5-43f7-a52b-2d2beb184be9",
   "metadata": {},
   "outputs": [
    {
     "data": {
      "text/plain": [
       "['I', 'am', 'going', 'to', 'visit', 'delhi', '!']"
      ]
     },
     "execution_count": 47,
     "metadata": {},
     "output_type": "execute_result"
    }
   ],
   "source": [
    "sent1 = 'I am going to visit delhi!'\n",
    "word_tokenize(sent1)"
   ]
  },
  {
   "cell_type": "code",
   "execution_count": 48,
   "id": "c06a0d69-fba4-4078-8d79-ccee36f26361",
   "metadata": {},
   "outputs": [
    {
     "data": {
      "text/plain": [
       "['Lorem Ipsum is simply dummy text of the printing and typesetting industry?',\n",
       " \"Lorem Ipsum has been the industry's standard dummy text ever since the 1500s, \\nwhen an unknown printer took a galley of type and scrambled it to make a type specimen book.\"]"
      ]
     },
     "execution_count": 48,
     "metadata": {},
     "output_type": "execute_result"
    }
   ],
   "source": [
    "text = \"\"\"Lorem Ipsum is simply dummy text of the printing and typesetting industry? \n",
    "Lorem Ipsum has been the industry's standard dummy text ever since the 1500s, \n",
    "when an unknown printer took a galley of type and scrambled it to make a type specimen book.\"\"\"\n",
    "sent_tokenize(text)"
   ]
  },
  {
   "cell_type": "code",
   "execution_count": 49,
   "id": "0cc2f16d-e84d-4414-a603-c07464d70137",
   "metadata": {},
   "outputs": [
    {
     "data": {
      "text/plain": [
       "['I', 'have', 'a', 'Ph.D', 'in', 'A.I']"
      ]
     },
     "execution_count": 49,
     "metadata": {},
     "output_type": "execute_result"
    }
   ],
   "source": [
    "sent5 = 'I have a Ph.D in A.I'\n",
    "sent6 = \"We're here to help! mail us at nks@gmail.com\"\n",
    "sent7 = 'A 5km ride cost $10.50'\n",
    "word_tokenize(sent5)"
   ]
  },
  {
   "cell_type": "code",
   "execution_count": 50,
   "id": "e0084741-5ab4-48aa-805b-c9e13ec31ca3",
   "metadata": {},
   "outputs": [
    {
     "data": {
      "text/plain": [
       "['We',\n",
       " \"'re\",\n",
       " 'here',\n",
       " 'to',\n",
       " 'help',\n",
       " '!',\n",
       " 'mail',\n",
       " 'us',\n",
       " 'at',\n",
       " 'nks',\n",
       " '@',\n",
       " 'gmail.com']"
      ]
     },
     "execution_count": 50,
     "metadata": {},
     "output_type": "execute_result"
    }
   ],
   "source": [
    "word_tokenize(sent6)"
   ]
  },
  {
   "cell_type": "code",
   "execution_count": 51,
   "id": "e3b8a46d-f7f7-4aa8-b970-1a850237c155",
   "metadata": {},
   "outputs": [],
   "source": [
    "# import spacy\n",
    "\n",
    "# # Load the English model\n",
    "# nlp = spacy.load('en_core_web_sm')\n",
    "\n",
    "# # Example usage\n",
    "# doc = nlp(\"I am going to visit Delhi!\")\n",
    "# for token in doc:\n",
    "#     print(token.text, token.pos_)\n",
    "\n"
   ]
  },
  {
   "cell_type": "code",
   "execution_count": 52,
   "id": "317295d2-f024-45b7-9707-53418fa95f97",
   "metadata": {},
   "outputs": [],
   "source": [
    "from nltk.stem.porter import PorterStemmer"
   ]
  },
  {
   "cell_type": "code",
   "execution_count": 53,
   "id": "eb05d9ee-b4c6-4163-a016-789c1425b574",
   "metadata": {},
   "outputs": [],
   "source": [
    "ps = PorterStemmer()\n",
    "def stem_words(text):\n",
    "    return \" \".join([ps.stem(word) for word in text.split()])"
   ]
  },
  {
   "cell_type": "code",
   "execution_count": 54,
   "id": "cef847ea-ae66-42f2-b418-1d24f6ebb2d0",
   "metadata": {},
   "outputs": [
    {
     "data": {
      "text/plain": [
       "'do did do done'"
      ]
     },
     "execution_count": 54,
     "metadata": {},
     "output_type": "execute_result"
    }
   ],
   "source": [
    "sample = \"do did doing done\"\n",
    "stem_words(sample)"
   ]
  },
  {
   "cell_type": "code",
   "execution_count": 55,
   "id": "871e923a-f479-495d-88e9-a39176c82446",
   "metadata": {},
   "outputs": [
    {
     "name": "stdout",
     "output_type": "stream",
     "text": [
      "probably my alltime favorite movie a story of selflessness sacrifice and dedication to a noble cause but its not preachy or boring it just never gets old despite my having seen it some 15 or more times in the last 25 years paul lukas performance brings tears to my eyes and bette davis in one of her very few truly sympathetic roles is a delight the kids are as grandma says more like dressedup midgets than children but that only makes them more fun to watch and the mothers slow awakening to whats happening in the world and under her own roof is believable and startling if i had a dozen thumbs theyd all be up for this movie\n"
     ]
    }
   ],
   "source": [
    "text = 'probably my alltime favorite movie a story of selflessness sacrifice and dedication to a noble cause but its not preachy or boring it just never gets old despite my having seen it some 15 or more times in the last 25 years paul lukas performance brings tears to my eyes and bette davis in one of her very few truly sympathetic roles is a delight the kids are as grandma says more like dressedup midgets than children but that only makes them more fun to watch and the mothers slow awakening to whats happening in the world and under her own roof is believable and startling if i had a dozen thumbs theyd all be up for this movie'\n",
    "print(text)"
   ]
  },
  {
   "cell_type": "code",
   "execution_count": 56,
   "id": "672e9fe9-c27d-42c1-ac44-7e08bc7c5ded",
   "metadata": {},
   "outputs": [
    {
     "data": {
      "text/plain": [
       "'probabl my alltim favorit movi a stori of selfless sacrific and dedic to a nobl caus but it not preachi or bore it just never get old despit my have seen it some 15 or more time in the last 25 year paul luka perform bring tear to my eye and bett davi in one of her veri few truli sympathet role is a delight the kid are as grandma say more like dressedup midget than children but that onli make them more fun to watch and the mother slow awaken to what happen in the world and under her own roof is believ and startl if i had a dozen thumb theyd all be up for thi movi'"
      ]
     },
     "execution_count": 56,
     "metadata": {},
     "output_type": "execute_result"
    }
   ],
   "source": [
    "stem_words(text)"
   ]
  },
  {
   "cell_type": "code",
   "execution_count": 57,
   "id": "a426c8b0-44da-4290-9687-be58a9d0fdb5",
   "metadata": {
    "scrolled": true
   },
   "outputs": [
    {
     "name": "stdout",
     "output_type": "stream",
     "text": [
      "Word                Lemma               \n",
      "probabl             probabl             \n",
      "my                  my                  \n",
      "alltim              alltim              \n",
      "favorit             favorit             \n",
      "movi                movi                \n",
      "a                   a                   \n",
      "stori               stori               \n",
      "of                  of                  \n",
      "selfless            selfless            \n",
      "sacrific            sacrific            \n",
      "and                 and                 \n",
      "dedic               dedic               \n",
      "to                  to                  \n",
      "a                   a                   \n",
      "nobl                nobl                \n",
      "caus                caus                \n",
      "but                 but                 \n",
      "it                  it                  \n",
      "not                 not                 \n",
      "preachi             preachi             \n",
      "or                  or                  \n",
      "bore                bore                \n",
      "it                  it                  \n",
      "just                just                \n",
      "never               never               \n",
      "get                 get                 \n",
      "old                 old                 \n",
      "despit              despit              \n",
      "my                  my                  \n",
      "have                have                \n",
      "seen                see                 \n",
      "it                  it                  \n",
      "some                some                \n",
      "15                  15                  \n",
      "or                  or                  \n",
      "more                more                \n",
      "time                time                \n",
      "in                  in                  \n",
      "the                 the                 \n",
      "last                last                \n",
      "25                  25                  \n",
      "year                year                \n",
      "paul                paul                \n",
      "luka                luka                \n",
      "perform             perform             \n",
      "bring               bring               \n",
      "tear                tear                \n",
      "to                  to                  \n",
      "my                  my                  \n",
      "eye                 eye                 \n",
      "and                 and                 \n",
      "bett                bett                \n",
      "davi                davi                \n",
      "in                  in                  \n",
      "one                 one                 \n",
      "of                  of                  \n",
      "her                 her                 \n",
      "veri                veri                \n",
      "few                 few                 \n",
      "truli               truli               \n",
      "sympathet           sympathet           \n",
      "role                role                \n",
      "is                  be                  \n"
     ]
    }
   ],
   "source": [
    "import nltk\n",
    "from nltk.stem import WordNetLemmatizer\n",
    "wordnet_lemmatizer = WordNetLemmatizer()\n",
    "\n",
    "sentence = \"probabl my alltim favorit movi a stori of selfless sacrific and dedic to a nobl caus but it not preachi or bore it just never get old despit my have seen it some 15 or more time in the last 25 year paul luka perform bring tear to my eye and bett davi in one of her veri few truli sympathet role is.\"\n",
    "punctuations=\"?:!.,;\"\n",
    "sentence_words = nltk.word_tokenize(sentence)\n",
    "for word in sentence_words:\n",
    "    if word in punctuations:\n",
    "        sentence_words.remove(word)\n",
    "\n",
    "sentence_words\n",
    "print(\"{0:20}{1:20}\".format(\"Word\",\"Lemma\"))\n",
    "for word in sentence_words:\n",
    "    print (\"{0:20}{1:20}\".format(word,wordnet_lemmatizer.lemmatize(word,pos='v')))"
   ]
  },
  {
   "cell_type": "code",
   "execution_count": null,
   "id": "7e2b6237-73a2-4857-bc43-f9aa9bb22d97",
   "metadata": {},
   "outputs": [],
   "source": []
  },
  {
   "cell_type": "code",
   "execution_count": null,
   "id": "05e846d0-02f9-4ecb-9d4a-b74821212ca5",
   "metadata": {},
   "outputs": [],
   "source": []
  },
  {
   "cell_type": "code",
   "execution_count": null,
   "id": "8a3dd3f8-64df-4e3d-9438-a43b9e17f90c",
   "metadata": {},
   "outputs": [],
   "source": []
  },
  {
   "cell_type": "code",
   "execution_count": null,
   "id": "69bc0f6a-6733-4d2e-a948-18d2795c70e5",
   "metadata": {},
   "outputs": [],
   "source": []
  },
  {
   "cell_type": "code",
   "execution_count": null,
   "id": "bf76d174-d514-460d-92c0-9572b41375db",
   "metadata": {},
   "outputs": [],
   "source": []
  },
  {
   "cell_type": "code",
   "execution_count": null,
   "id": "279fcd30-f9c3-4b26-9d56-d744a39202a5",
   "metadata": {},
   "outputs": [],
   "source": []
  }
 ],
 "metadata": {
  "kernelspec": {
   "display_name": "Python 3 (ipykernel)",
   "language": "python",
   "name": "python3"
  },
  "language_info": {
   "codemirror_mode": {
    "name": "ipython",
    "version": 3
   },
   "file_extension": ".py",
   "mimetype": "text/x-python",
   "name": "python",
   "nbconvert_exporter": "python",
   "pygments_lexer": "ipython3",
   "version": "3.11.10"
  }
 },
 "nbformat": 4,
 "nbformat_minor": 5
}
